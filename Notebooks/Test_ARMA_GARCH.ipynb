{
 "cells": [
  {
   "cell_type": "markdown",
   "metadata": {},
   "source": [
    "# Test ARMA-GARCH model"
   ]
  },
  {
   "cell_type": "code",
   "execution_count": 1,
   "metadata": {},
   "outputs": [],
   "source": [
    "import fynance as fy\n",
    "from fynance.tools import metrics\n",
    "import numpy as np"
   ]
  },
  {
   "cell_type": "code",
   "execution_count": 2,
   "metadata": {},
   "outputs": [],
   "source": [
    "from fynance.models import econometric_models as em"
   ]
  },
  {
   "cell_type": "code",
   "execution_count": null,
   "metadata": {},
   "outputs": [],
   "source": [
    "em.estimation"
   ]
  },
  {
   "cell_type": "code",
   "execution_count": 3,
   "metadata": {},
   "outputs": [],
   "source": [
    "X = (2 * np.random.rand(100000) - 1) * 0.01 + 0.001\n",
    "X = np.cumprod(X + 1)"
   ]
  },
  {
   "cell_type": "code",
   "execution_count": null,
   "metadata": {},
   "outputs": [],
   "source": []
  },
  {
   "cell_type": "code",
   "execution_count": 4,
   "metadata": {},
   "outputs": [
    {
     "name": "stdout",
     "output_type": "stream",
     "text": [
      "3.0764420819189944\n"
     ]
    }
   ],
   "source": [
    "#print(metrics.sharpe_py(X, period=252))\n",
    "print(metrics.sharpe_cy(X, period=252))"
   ]
  },
  {
   "cell_type": "code",
   "execution_count": 5,
   "metadata": {
    "scrolled": true
   },
   "outputs": [
    {
     "data": {
      "text/plain": [
       "array([0.        , 0.        , 6.79157014, ..., 3.07614194, 3.07645279,\n",
       "       3.07644208])"
      ]
     },
     "execution_count": 5,
     "metadata": {},
     "output_type": "execute_result"
    }
   ],
   "source": [
    "metrics.roll_sharpe_cy(X)"
   ]
  },
  {
   "cell_type": "code",
   "execution_count": 7,
   "metadata": {},
   "outputs": [
    {
     "data": {
      "text/plain": [
       "array([0.        , 0.        , 4.2380812 , ..., 3.08043716, 3.08034817,\n",
       "       3.08053149])"
      ]
     },
     "execution_count": 7,
     "metadata": {},
     "output_type": "execute_result"
    }
   ],
   "source": [
    "metrics.roll_sharpe_cy2(X)"
   ]
  },
  {
   "cell_type": "code",
   "execution_count": 5,
   "metadata": {},
   "outputs": [
    {
     "data": {
      "text/plain": [
       "array([ 0.        , 20.60535755,  5.07775599, ...,  3.08045209,\n",
       "        3.08036311,  3.08054642])"
      ]
     },
     "execution_count": 5,
     "metadata": {},
     "output_type": "execute_result"
    }
   ],
   "source": [
    "metrics.roll_sharpe_cy3(X)"
   ]
  },
  {
   "cell_type": "code",
   "execution_count": 45,
   "metadata": {},
   "outputs": [
    {
     "name": "stdout",
     "output_type": "stream",
     "text": [
      "12.2 s ± 572 ms per loop (mean ± std. dev. of 7 runs, 1 loop each)\n"
     ]
    }
   ],
   "source": [
    "%timeit metrics.roll_sharpe_cy(X)"
   ]
  },
  {
   "cell_type": "code",
   "execution_count": 46,
   "metadata": {},
   "outputs": [
    {
     "name": "stdout",
     "output_type": "stream",
     "text": [
      "30.7 s ± 158 ms per loop (mean ± std. dev. of 7 runs, 1 loop each)\n"
     ]
    }
   ],
   "source": [
    "%timeit metrics.roll_sharpe_cy2(X)"
   ]
  },
  {
   "cell_type": "code",
   "execution_count": 8,
   "metadata": {},
   "outputs": [
    {
     "name": "stdout",
     "output_type": "stream",
     "text": [
      "11.5 s ± 68.2 ms per loop (mean ± std. dev. of 7 runs, 1 loop each)\n"
     ]
    }
   ],
   "source": [
    "%timeit metrics.roll_sharpe_cy3(X)"
   ]
  },
  {
   "cell_type": "code",
   "execution_count": 6,
   "metadata": {},
   "outputs": [
    {
     "data": {
      "text/plain": [
       "0.27679332278812685"
      ]
     },
     "execution_count": 6,
     "metadata": {},
     "output_type": "execute_result"
    }
   ],
   "source": [
    "np.std(X)"
   ]
  },
  {
   "cell_type": "code",
   "execution_count": 7,
   "metadata": {},
   "outputs": [],
   "source": [
    "def sharpe_v2(series, period=252):\n",
    "    \"\"\" \n",
    "    Function to compute the total return over the volatility, known as the \n",
    "    Sharpe ratio.\n",
    "    \n",
    "    Parameters\n",
    "    ----------\n",
    "    series: numpy.ndarray(dim=1, dtype=float)\n",
    "        Prices of the index.\n",
    "    period: int (default: 252)\n",
    "        Number of period per year.\n",
    "\n",
    "    Returns\n",
    "    -------\n",
    "    Float, it's the Sharpe ratio.\n",
    "    \"\"\"\n",
    "\n",
    "    T = series.size \n",
    "    ret_vect = series[1:] / series[:-1] - 1\n",
    "    annual_return = np.float_power(series[-1] / series[0], period / T) - 1\n",
    "    vol = sqrt(period) * np.std(ret_vect)\n",
    "\n",
    "    if vol == 0.:\n",
    "        return 0.\n",
    "    return annual_return / vol"
   ]
  },
  {
   "cell_type": "code",
   "execution_count": 53,
   "metadata": {},
   "outputs": [
    {
     "name": "stdout",
     "output_type": "stream",
     "text": [
      "34.8 µs ± 1.91 µs per loop (mean ± std. dev. of 7 runs, 10000 loops each)\n"
     ]
    }
   ],
   "source": [
    "%timeit sharpe_v2(X)"
   ]
  },
  {
   "cell_type": "code",
   "execution_count": 9,
   "metadata": {},
   "outputs": [],
   "source": [
    "from math import sqrt"
   ]
  },
  {
   "cell_type": "code",
   "execution_count": 11,
   "metadata": {},
   "outputs": [
    {
     "data": {
      "text/plain": [
       "-0.20415323857920192"
      ]
     },
     "execution_count": 11,
     "metadata": {},
     "output_type": "execute_result"
    }
   ],
   "source": [
    "sharpe_v2(X, period=252)"
   ]
  },
  {
   "cell_type": "code",
   "execution_count": 12,
   "metadata": {},
   "outputs": [
    {
     "data": {
      "text/plain": [
       "-0.20415323857920192"
      ]
     },
     "execution_count": 12,
     "metadata": {},
     "output_type": "execute_result"
    }
   ],
   "source": [
    "metrics.sharpe_py(X)"
   ]
  },
  {
   "cell_type": "code",
   "execution_count": 10,
   "metadata": {},
   "outputs": [
    {
     "ename": "TypeError",
     "evalue": "data type not understood",
     "output_type": "error",
     "traceback": [
      "\u001b[0;31m---------------------------------------------------------------------------\u001b[0m",
      "\u001b[0;31mTypeError\u001b[0m                                 Traceback (most recent call last)",
      "\u001b[0;32m<ipython-input-10-36ce3772af43>\u001b[0m in \u001b[0;36m<module>\u001b[0;34m\u001b[0m\n\u001b[0;32m----> 1\u001b[0;31m \u001b[0mnp\u001b[0m\u001b[0;34m.\u001b[0m\u001b[0marange\u001b[0m\u001b[0;34m(\u001b[0m\u001b[0;36m0\u001b[0m\u001b[0;34m,\u001b[0m \u001b[0;36m5\u001b[0m\u001b[0;34m,\u001b[0m \u001b[0mdtype\u001b[0m\u001b[0;34m=\u001b[0m\u001b[0miter\u001b[0m\u001b[0;34m)\u001b[0m\u001b[0;34m\u001b[0m\u001b[0m\n\u001b[0m",
      "\u001b[0;31mTypeError\u001b[0m: data type not understood"
     ]
    }
   ],
   "source": [
    "np.arange(0, 5, dtype=iter)"
   ]
  },
  {
   "cell_type": "code",
   "execution_count": 45,
   "metadata": {},
   "outputs": [],
   "source": [
    "def roll_sharpe(series, period=252, win=0):\n",
    "    \"\"\"\n",
    "    roll_sharpe(series, period=252, win=0)\n",
    "    \n",
    "    Vectorized rolling sharpe \n",
    "    Parameters\n",
    "    ----------\n",
    "    series: np.ndarray[dtype=np.float64, ndim=1]\n",
    "        Financial series of prices or indexed values.\n",
    "    period: int (default 252)\n",
    "        Number of period in a year.\n",
    "    win: int (default 0)\n",
    "        Size of the rolling window. If less of two, \n",
    "    rolling sharpe is compute on all the past.\n",
    "    \n",
    "    Returns\n",
    "    -------\n",
    "    rolling_sharpe: np.ndarray[np.float64, ndim=1]\n",
    "    \"\"\"\n",
    "    T = len(series)\n",
    "    t = np.arange(1, T + 1)\n",
    "    ret_vect = np.zeros([T])\n",
    "    ret_vect[1: ] = series[1: ] / series[: -1] - 1\n",
    "    # Compute rolling cumulative returns\n",
    "    ret_cum = series / series[0] \n",
    "    if win > 1:\n",
    "        ret_cum[win: ] = series[win: ] / series[: -win]\n",
    "    # Compute rolling mean\n",
    "    ret_mean = np.cumsum(ret_vect) / t\n",
    "    if win > 1:\n",
    "        ret_mean[win: ] = (ret_mean[win: ] * t[win: ] - ret_mean[: -win] * t[: -win]) / win\n",
    "    # Compute rolling volatility\n",
    "    ret_vol = np.cumsum(np.square(ret_vect - ret_mean)) / t\n",
    "    if win > 1:\n",
    "        ret_vol[win: ] = (ret_vol[win: ] * t[win: ] - ret_vol[: -win] * t[: -win]) / win\n",
    "    ret_vol[ret_vol == 0] = 1e10\n",
    "    # Compute rolling sharpe\n",
    "    if win > 1:\n",
    "        t[win: ] = win\n",
    "    return (np.float_power(ret_cum, period / t) - 1.) / (np.sqrt(period * ret_vol))"
   ]
  },
  {
   "cell_type": "code",
   "execution_count": 10,
   "metadata": {},
   "outputs": [
    {
     "name": "stdout",
     "output_type": "stream",
     "text": [
      "9.72 ms ± 196 µs per loop (mean ± std. dev. of 7 runs, 100 loops each)\n"
     ]
    }
   ],
   "source": [
    "%timeit metrics.roll_sharpe(X)"
   ]
  },
  {
   "cell_type": "code",
   "execution_count": 9,
   "metadata": {},
   "outputs": [
    {
     "data": {
      "text/plain": [
       "array([  0.        , -15.29227881, -18.462136  , ...,   3.09730861,\n",
       "         3.09741683,   3.09748274])"
      ]
     },
     "execution_count": 9,
     "metadata": {},
     "output_type": "execute_result"
    }
   ],
   "source": [
    "metrics.roll_sharpe(X, win=1)"
   ]
  },
  {
   "cell_type": "code",
   "execution_count": 29,
   "metadata": {},
   "outputs": [
    {
     "data": {
      "text/plain": [
       "3.3375942887959074e-05"
      ]
     },
     "execution_count": 29,
     "metadata": {},
     "output_type": "execute_result"
    }
   ],
   "source": [
    "ret_vect = np.zeros([X.size])\n",
    "ret_vect[1: ] = X[1: ] / X[: -1] - 1\n",
    "np.var(ret_vect)"
   ]
  },
  {
   "cell_type": "code",
   "execution_count": 34,
   "metadata": {},
   "outputs": [],
   "source": [
    "m = np.cumsum(ret_vect) / np.arange(1, X.size + 1)\n",
    "s = np.cumsum(np.square(ret_vect - m)) / np.arange(1, X.size + 1)"
   ]
  },
  {
   "cell_type": "code",
   "execution_count": 35,
   "metadata": {},
   "outputs": [
    {
     "data": {
      "text/plain": [
       "array([0.00000000e+00, 2.01211116e-06, 3.55256670e-06, ...,\n",
       "       3.33725708e-05, 3.33723195e-05, 3.33722466e-05])"
      ]
     },
     "execution_count": 35,
     "metadata": {},
     "output_type": "execute_result"
    }
   ],
   "source": [
    "s"
   ]
  },
  {
   "cell_type": "code",
   "execution_count": 36,
   "metadata": {},
   "outputs": [
    {
     "data": {
      "text/plain": [
       "array([0.        , 0.00200605, 0.00071827, ..., 0.00100454, 0.00100451,\n",
       "       0.00100456])"
      ]
     },
     "execution_count": 36,
     "metadata": {},
     "output_type": "execute_result"
    }
   ],
   "source": [
    "m"
   ]
  },
  {
   "cell_type": "code",
   "execution_count": null,
   "metadata": {},
   "outputs": [],
   "source": []
  }
 ],
 "metadata": {
  "kernelspec": {
   "display_name": "Python 3",
   "language": "python",
   "name": "python3"
  },
  "language_info": {
   "codemirror_mode": {
    "name": "ipython",
    "version": 3
   },
   "file_extension": ".py",
   "mimetype": "text/x-python",
   "name": "python",
   "nbconvert_exporter": "python",
   "pygments_lexer": "ipython3",
   "version": "3.7.0"
  }
 },
 "nbformat": 4,
 "nbformat_minor": 2
}
